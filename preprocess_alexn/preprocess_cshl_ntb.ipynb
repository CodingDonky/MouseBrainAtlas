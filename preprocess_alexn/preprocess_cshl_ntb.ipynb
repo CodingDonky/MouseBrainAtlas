{
 "cells": [
  {
   "cell_type": "code",
   "execution_count": null,
   "metadata": {
    "collapsed": true
   },
   "outputs": [],
   "source": [
    "# Setup and Imports\n",
    "\n",
    "# %reload_ext : Reloads an IPython extension by its module name.\n",
    "%reload_ext autoreload\n",
    "# %autoreload 2 : Reloads all modules (except those excluded by %aimport)  \n",
    "#  every time before executing the Python code typed.\n",
    "%autoreload 2\n",
    "\n",
    "# %TEXT : code in this format is called a \"magic function\" \n",
    "#  https://stackoverflow.com/questions/43027980/purpose-of-matplotlib-inline/43028034\n",
    "\n",
    "import os\n",
    "import sys\n",
    "import time\n",
    "\n",
    "import matplotlib.pyplot as plt\n",
    "# Sets backend of matplotlib to the 'inline' backend\n",
    "%matplotlib inline\n",
    "import numpy as np\n",
    "\n",
    "sys.path.append(os.path.join(os.environ['REPO_DIR'], 'utilities'))\n",
    "from utilities2015 import *\n",
    "from metadata import *\n",
    "from data_manager import *\n",
    "from learning_utilities import *"
   ]
  },
  {
   "cell_type": "markdown",
   "metadata": {},
   "source": [
    "# Miscillaneous Code\n",
    "#### Function to detect where you are at running the code"
   ]
  },
  {
   "cell_type": "code",
   "execution_count": null,
   "metadata": {
    "collapsed": true
   },
   "outputs": [],
   "source": [
    "# BAD FILE LOCATOR\n",
    "# Automatically tells where in the code you are\n",
    "\n",
    "# 1) raw -> raw_Ntb: extract_channel\n",
    "# 2) raw_Ntb -> thumbnail_Ntb: rescale\n",
    "# 3) thumbnail_Ntb -> thumbnail_NtbNormalized: normalize_intensity\n",
    "# 4) Compute transforms using thumbnail_NtbNormalized: align + compose\n",
    "# 5) Supply prep1_thumbnail_mask\n",
    "# 6) prep1_thumbnail_mask -> thumbnail_mask: warp\n",
    "# 7) raw_Ntb -> raw_NtbNormalizedAdaptiveInvertedGamma: brightness_correction\n",
    "# 8) Compute prep5 (alignedWithMargin) cropping box based on prep1_thumbnail_mask\n",
    "# 9) raw_NtbNormalizedAdaptiveInvertedGamma -> prep5_raw_NtbNormalizedAdaptiveInvertedGamma: align + crop\n",
    "# 10) thumbnail_NtbNormalized -> prep5_thumbnail_NtbNormalized: align + crop\n",
    "# 11) prep5_raw_NtbNormalizedAdaptiveInvertedGamma -> prep5_thumbnail_NtbNormalizedAdaptiveInvertedGamma: rescale\n",
    "# 12) Specify prep2 (alignedBrainstemCrop) cropping box\n",
    "# 13) prep5_raw_NtbNormalizedAdaptiveInvertedGamma -> prep2_raw_NtbNormalizedAdaptiveInvertedGamma: crop\n",
    "# 14) prep2_raw_NtbNormalizedAdaptiveInvertedGamma -> prep2_raw_NtbNormalizedAdaptiveInvertedGammaJpeg: compress_jpeg\n",
    "\n",
    "# np.setdiff1d(list1,list2) # Get difference between two lists\n",
    "# metadata_cache['valid_filenames_all'][stack]  # To get all valid filenames\n",
    "\n",
    "def where_am_i():\n",
    "    '''\n",
    "    where_am_i will iterate through each of the 14 steps of preprocessing, checking that ALL output files \n",
    "    have been generated sucessfully. For any stage where files are missing or corrupted, this function will \n",
    "    return a list of the filepaths & filenames of the images that are not in the output.\n",
    "    where_am_i() returns [bad_fp_list, bad_file_list].\n",
    "    '''\n",
    "    \n",
    "    # Throws an error if you don't set Max Pixels to around 2 Billion (yikes)\n",
    "    Image.MAX_IMAGE_PIXELS = 2000000000\n",
    "    # Iterates through every possible filename as defined in metadata_cache\n",
    "    #                                           stack must be defined\n",
    "    bad_fp_list = [] # Full filePaths\n",
    "    bad_file_list = [] # FileNames\n",
    "    \n",
    "    #   Dic = {'step#': [prep_id, resol, version]}\n",
    "    stepDic = {'1':[None,'raw','Ntb'], '2':[None,'thumbnail','Ntb'], '3':[None,'thumbnail','NtbNormalized'],\\\n",
    "               '4':[None,'???','???'], '5':[1,'thumbnail','mask'], '6':[None,'???','???'], \\\n",
    "               '7':[None,'raw','NtbNormalizedAdaptiveInvertedGamma'], '8':[5,'thumbnail','mask'], \\\n",
    "               '9':[5,'raw','NtbNormalizedAdaptiveInvertedGamma'], '10':[5,'thumbnail','NtbNormalized'], \\\n",
    "               '11':[5,'thumbnail','NtbNormalizedAdaptiveInvertedGamma']}\n",
    "\n",
    "    \n",
    "    # For checking each individual step of the pipeline as outlined above\n",
    "    for step in range (2,12):\n",
    "        stepStr = str(step)\n",
    "        stepCompleted = True\n",
    "        \n",
    "        print 'Checking for completion of step '+stepStr\n",
    "        t = time.time()\n",
    "        \n",
    "        if stepDic[stepStr][1]=='???':\n",
    "                stepCompleted = False\n",
    "                print 'Output files unknown. No idea.'\n",
    "                print ''\n",
    "                continue\n",
    "        \n",
    "        for fn in metadata_cache['valid_filenames_all'][stack]:\n",
    "            \n",
    "            # Record the filepath from every filename + info from the \"step dictionary\"\n",
    "            fp = DataManager.get_image_filepath_v2(stack=stack, prep_id=stepDic[stepStr][0], \\\n",
    "                                     resol=stepDic[stepStr][1], version=stepDic[stepStr][2], fn=fn)\n",
    "            \n",
    "            fp_to_test = fp\n",
    "            try:\n",
    "                img = Image.open(fp_to_test) # open the image file\n",
    "                img.verify() # verify that it is, in fact an uncorruted image\n",
    "            except (IOError, SyntaxError) as e:\n",
    "               # print('Bad file:', fp_to_test) # Print out the names of corrupt files\n",
    "                bad_fp_list.append(fp_to_test) # Add bad filepaths to bad_filepath_list\n",
    "                bad_file_list.append(fn) # Add bad files to bad_file_list\n",
    "                stepCompleted = False\n",
    "        #metadata_cache['valid_filenames_all']['MD662']\n",
    "        \n",
    "        if stepCompleted:\n",
    "            print 'Step '+stepStr+' completed!'\n",
    "            print 'done in', time.time() - t, 'seconds' \n",
    "            print ''\n",
    "        else:\n",
    "            print '*****     Bad files found!     *****\\n'\n",
    "            print 'Step '+stepStr+' NOT complete. Rerun necessary parts of the code'\n",
    "            print '`bad_fp_list` and `bad_file_list` created, each contain info on each incomplete files.'\n",
    "            print 'done in', time.time() - t, 'seconds' \n",
    "            print ''\n",
    "            if stepDic[stepStr][0] is None:\n",
    "                print '`'+stack+'_'+stepDic[stepStr][1]+'_'+\\\n",
    "                        stepDic[stepStr][2]+'` was not generated properly'\n",
    "            else:\n",
    "                print '`'+stack+'_prep'+str(stepDic[stepStr][0])+'_'+stepDic[stepStr][1]+'_'+\\\n",
    "                        stepDic[stepStr][2]+'` was not generated properly'\n",
    "            break\n",
    "            #continue\n",
    "    return bad_fp_list, bad_file_list\n",
    "\n",
    "#print where_am_i.__doc__\n",
    "[bad_fp_list, bad_file_list] = where_am_i()\n",
    "\n",
    "print len(bad_file_list),' bad files'"
   ]
  },
  {
   "cell_type": "markdown",
   "metadata": {},
   "source": [
    "# STEP 1\n",
    "### raw (.jp2) -> raw_Ntb (.tif)"
   ]
  },
  {
   "cell_type": "markdown",
   "metadata": {},
   "source": [
    "# STEP 2\n",
    "### raw_Ntb -> thumbnail_Ntb\n",
    "rescale"
   ]
  },
  {
   "cell_type": "markdown",
   "metadata": {},
   "source": [
    "# STEP 3\n",
    "### thumbnail_Ntb -> thumbnail_NtbNormalized\n",
    "normalize_intensity"
   ]
  },
  {
   "cell_type": "markdown",
   "metadata": {},
   "source": [
    "# STEP 4\n",
    "### Compute transforms using thumbnail_NtbNormalized\n",
    "align + compose"
   ]
  },
  {
   "cell_type": "markdown",
   "metadata": {},
   "source": [
    "# STEP 5\n",
    "### Supply prep1_thumbnail_mask"
   ]
  },
  {
   "cell_type": "markdown",
   "metadata": {},
   "source": [
    "# STEP 6\n",
    "### prep1_thumbnail_mask -> thumbnail_mask\n",
    "warp"
   ]
  },
  {
   "cell_type": "markdown",
   "metadata": {},
   "source": [
    "# STEP 7\n",
    "### raw_Ntb -> raw_NtbNormalizedAdaptiveInvertedGamma\n",
    "brightness_correction"
   ]
  },
  {
   "cell_type": "markdown",
   "metadata": {},
   "source": [
    "# STEP 8\n",
    "### prep1 -> prep5\n",
    "Compute prep5 (alignedWithMargin) cropping box based on prep1_thumbnail_mask"
   ]
  },
  {
   "cell_type": "markdown",
   "metadata": {},
   "source": [
    "# STEP 9\n",
    "### raw_NtbNormalizedAdaptiveInvertedGamma -> prep5_raw_NtbNormalizedAdaptiveInvertedGamma\n",
    "align + crop"
   ]
  },
  {
   "cell_type": "markdown",
   "metadata": {},
   "source": [
    "# STEP 10\n",
    "### thumbnail_NtbNormalized -> prep5_thumbnail_NtbNormalized\n",
    "align + crop"
   ]
  },
  {
   "cell_type": "markdown",
   "metadata": {},
   "source": [
    "# STEP 11\n",
    "### prep5_raw_NtbNormalizedAdaptiveInvertedGamma -> prep5_thumbnail_NtbNormalizedAdaptiveInvertedGamma\n",
    "rescale"
   ]
  },
  {
   "cell_type": "markdown",
   "metadata": {},
   "source": [
    "# STEP 12\n",
    "### Specify prep2 (alignedBrainstemCrop) cropping box\n"
   ]
  },
  {
   "cell_type": "markdown",
   "metadata": {},
   "source": [
    "# STEP 13\n",
    "### prep5_raw_NtbNormalizedAdaptiveInvertedGamma -> prep2_raw_NtbNormalizedAdaptiveInvertedGamma\n",
    "crop"
   ]
  },
  {
   "cell_type": "markdown",
   "metadata": {},
   "source": [
    "# STEP 14\n",
    "### prep2_raw_NtbNormalizedAdaptiveInvertedGamma -> prep2_raw_NtbNormalizedAdaptiveInvertedGammaJpeg\n",
    "compress_jpeg"
   ]
  },
  {
   "cell_type": "code",
   "execution_count": null,
   "metadata": {
    "collapsed": true
   },
   "outputs": [],
   "source": []
  }
 ],
 "metadata": {
  "kernelspec": {
   "display_name": "Python 2",
   "language": "python",
   "name": "python2"
  },
  "language_info": {
   "codemirror_mode": {
    "name": "ipython",
    "version": 2
   },
   "file_extension": ".py",
   "mimetype": "text/x-python",
   "name": "python",
   "nbconvert_exporter": "python",
   "pygments_lexer": "ipython2",
   "version": "2.7.12"
  }
 },
 "nbformat": 4,
 "nbformat_minor": 2
}
